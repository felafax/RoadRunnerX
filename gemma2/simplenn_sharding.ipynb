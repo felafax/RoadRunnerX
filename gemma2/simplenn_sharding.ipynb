{
 "cells": [
  {
   "cell_type": "code",
   "execution_count": 1,
   "metadata": {},
   "outputs": [],
   "source": [
    "%%capture\n",
    "!pip install --upgrade kagglehub -q\n",
    "!pip install ipywidgets -q\n",
    "!pip install tensorflow-cpu -q\n",
    "!pip install tensorflow_datasets -q\n",
    "!pip install torch torchvision torchaudio --index-url https://download.pytorch.org/whl/cpu -q\n",
    "!pip install git+https://github.com/felafax/gemma.git -q\n",
    "!pip install qax -q\n",
    "!pip install jax-lorax -q"
   ]
  },
  {
   "cell_type": "code",
   "execution_count": 3,
   "metadata": {},
   "outputs": [],
   "source": [
    "import os\n",
    "os.environ['HF_HUB_CACHE'] = '/mnt/persistent-disk/hf/'\n",
    "os.environ['HF_HOME'] = '/mnt/persistent-disk/hf/'\n",
    "!export HF_HUB_CACHE=\"/mnt/persistent-disk/hf/\"\n",
    "!export HF_HOME=\"/mnt/persistent-disk/hf/\""
   ]
  },
  {
   "cell_type": "code",
   "execution_count": 7,
   "metadata": {
    "id": "yWaP_LPoEcoY"
   },
   "outputs": [],
   "source": [
    "# @title Python imports\n",
    "\n",
    "import enum\n",
    "import re\n",
    "import string\n",
    "import pdb\n",
    "\n",
    "# We import JAX and some related packages.\n",
    "import chex\n",
    "import jax\n",
    "import jax.numpy as jnp\n",
    "import flax.linen as nn\n",
    "import optax\n",
    "from functools import partial\n",
    "\n",
    "# For LoRA\n",
    "import lorax\n",
    "\n",
    "# We will use HuggingFace's dataset, tokenizer, and model classes.\n",
    "from transformers import AutoModelForCausalLM, AutoConfig, AutoTokenizer, default_data_collator\n",
    "from datasets import Dataset, load_dataset, concatenate_datasets\n",
    "import torch\n",
    "\n",
    "# Finally, we import Gemma.\n",
    "from gemma import params as params_lib\n",
    "from gemma import sampler as sampler_lib\n",
    "from gemma import transformer as transformer_lib\n",
    "import sentencepiece as spm\n"
   ]
  },
  {
   "cell_type": "code",
   "execution_count": 5,
   "metadata": {},
   "outputs": [
    {
     "data": {
      "text/plain": [
       "[TpuDevice(id=0, process_index=0, coords=(0,0,0), core_on_chip=0),\n",
       " TpuDevice(id=1, process_index=0, coords=(1,0,0), core_on_chip=0),\n",
       " TpuDevice(id=2, process_index=0, coords=(0,1,0), core_on_chip=0),\n",
       " TpuDevice(id=3, process_index=0, coords=(1,1,0), core_on_chip=0)]"
      ]
     },
     "execution_count": 5,
     "metadata": {},
     "output_type": "execute_result"
    }
   ],
   "source": [
    "jax.devices()"
   ]
  },
  {
   "cell_type": "markdown",
   "metadata": {
    "id": "_VsT2o6JEcoZ"
   },
   "source": [
    "## Fine tuning the Gemma model"
   ]
  },
  {
   "cell_type": "code",
   "execution_count": 180,
   "metadata": {
    "scrolled": true
   },
   "outputs": [],
   "source": [
    "import flax\n",
    "from flax.traverse_util import flatten_dict\n",
    "from flax.core.meta import unbox\n",
    "\n",
    "\n",
    "def print_params(params):\n",
    "    flat_params = flatten_dict(params)    \n",
    "    for path, param in flat_params.items():\n",
    "        # Join the path components to create a string name\n",
    "        name = \"/\".join(str(x) for x in path)\n",
    "        print(f\"Name: {name}\")\n",
    "        # print(f\"Shape: {param.shape}\")\n",
    "        # print(f\"dtype: {param.dtype}\")\n",
    "        # print(f\"Value: {param}\")\n",
    "        if isinstance(param, flax.core.meta.Partitioned):\n",
    "            array = unbox(param)\n",
    "        else:\n",
    "            array = param\n",
    "        print(jax.debug.visualize_array_sharding(array))\n",
    "        print(\"-\" * 40)"
   ]
  },
  {
   "cell_type": "markdown",
   "metadata": {},
   "source": [
    "## Try LoRA with simpleNN"
   ]
  },
  {
   "cell_type": "code",
   "execution_count": 145,
   "metadata": {},
   "outputs": [],
   "source": []
  },
  {
   "cell_type": "code",
   "execution_count": 127,
   "metadata": {},
   "outputs": [],
   "source": [
    "input_dim = 32 \n",
    "hidden_dim = 8\n",
    "output_dim = 1"
   ]
  },
  {
   "cell_type": "code",
   "execution_count": 128,
   "metadata": {},
   "outputs": [],
   "source": [
    "\n",
    "# Helper function for creating NamedSharding\n",
    "def create_sharding(pspec):\n",
    "    return NamedSharding(mesh, pspec)"
   ]
  },
  {
   "cell_type": "code",
   "execution_count": 129,
   "metadata": {},
   "outputs": [],
   "source": [
    "def mesh_sharding(pspec: PartitionSpec) -> NamedSharding:\n",
    "  return NamedSharding(mesh, pspec)"
   ]
  },
  {
   "cell_type": "code",
   "execution_count": 163,
   "metadata": {},
   "outputs": [
    {
     "name": "stdout",
     "output_type": "stream",
     "text": [
      "Mesh('data': 1, 'model': 4)\n"
     ]
    }
   ],
   "source": [
    "import jax\n",
    "import jax.numpy as jnp\n",
    "from jax.sharding import Mesh, PartitionSpec, NamedSharding\n",
    "from flax import linen as nn\n",
    "from flax.training import train_state\n",
    "import optax\n",
    "from jax.sharding import Mesh, PartitionSpec, NamedSharding\n",
    "from jax.lax import with_sharding_constraint\n",
    "from jax.experimental import mesh_utils\n",
    "import functools\n",
    "from functools import partial\n",
    "import jax\n",
    "import jax.numpy as jnp\n",
    "\n",
    "class SimpleNN(nn.Module):\n",
    "    hidden_dim: int\n",
    "    output_dim: int\n",
    "    \n",
    "    @nn.compact\n",
    "    def __call__(self, x):\n",
    "        x = with_sharding_constraint(x, mesh_sharding(PartitionSpec('data', 'model')))\n",
    "\n",
    "        x = nn.Dense(features=self.hidden_dim, \n",
    "                     kernel_init=nn.with_partitioning(nn.initializers.xavier_normal(), ('data', 'model')),\n",
    "                     use_bias=False)(x)\n",
    "        x = nn.relu(x)\n",
    "        x = nn.Dense(features=self.output_dim, \n",
    "                     use_bias=False)(x)\n",
    "        return x\n",
    "\n",
    "# Set up the device mesh\n",
    "devices = jax.devices()\n",
    "device_mesh = mesh_utils.create_device_mesh((1, 4))\n",
    "mesh = Mesh(devices=device_mesh, axis_names=('data', 'model'))\n",
    "\n",
    "print(mesh)"
   ]
  },
  {
   "cell_type": "code",
   "execution_count": 164,
   "metadata": {},
   "outputs": [
    {
     "data": {
      "text/html": [
       "<pre style=\"white-space:pre;overflow-x:auto;line-height:normal;font-family:Menlo,'DejaVu Sans Mono',consolas,'Courier New',monospace\">┌───────────────────┬───────────────────┬───────────────────┬──────────────────┐\n",
       "│                   │                   │                   │                  │\n",
       "│                   │                   │                   │                  │\n",
       "│                   │                   │                   │                  │\n",
       "│                   │                   │                   │                  │\n",
       "│                   │                   │                   │                  │\n",
       "│                   │                   │                   │                  │\n",
       "│                   │                   │                   │                  │\n",
       "│                   │                   │                   │                  │\n",
       "└───────────────────┴───────────────────┴───────────────────┴──────────────────┘\n",
       "</pre>\n"
      ],
      "text/plain": [
       "┌───────────────────┬───────────────────┬───────────────────┬──────────────────┐\n",
       "│                   │                   │                   │                  │\n",
       "│                   │                   │                   │                  │\n",
       "│                   │                   │                   │                  │\n",
       "│                   │                   │                   │                  │\n",
       "│                   │                   │                   │                  │\n",
       "│                   │                   │                   │                  │\n",
       "│                   │                   │                   │                  │\n",
       "│                   │                   │                   │                  │\n",
       "└───────────────────┴───────────────────┴───────────────────┴──────────────────┘\n"
      ]
     },
     "metadata": {},
     "output_type": "display_data"
    }
   ],
   "source": [
    "sample_batch = jnp.ones(shape=(1, input_dim))\n",
    "x_sharding = mesh_sharding(PartitionSpec('data', 'model')) # dimensions: (batch, length)\n",
    "sample_batch = jax.device_put(sample_batch, x_sharding)\n",
    "jax.debug.visualize_array_sharding(x)"
   ]
  },
  {
   "cell_type": "code",
   "execution_count": 165,
   "metadata": {},
   "outputs": [],
   "source": [
    "# Initialize function\n",
    "def init_fn(key, x, model, optimizer):\n",
    "    params = model.init(key, x)  # Initialize the model\n",
    "    state = train_state.TrainState.create(  # Create a `TrainState`\n",
    "        apply_fn=model.apply,\n",
    "        params=params['params'],\n",
    "        tx=optimizer)\n",
    "    return state"
   ]
  },
  {
   "cell_type": "code",
   "execution_count": 166,
   "metadata": {},
   "outputs": [],
   "source": [
    "model = SimpleNN(hidden_dim, output_dim)\n",
    "optimizer = optax.adam(learning_rate=0.001)"
   ]
  },
  {
   "cell_type": "code",
   "execution_count": 167,
   "metadata": {},
   "outputs": [],
   "source": [
    "abstract_variables = jax.eval_shape(\n",
    "    functools.partial(\n",
    "        init_fn, \n",
    "        model=model, \n",
    "        optimizer=optimizer\n",
    "    ),\n",
    "    jax.random.PRNGKey(99),\n",
    "    sample_batch\n",
    ")\n"
   ]
  },
  {
   "cell_type": "code",
   "execution_count": 135,
   "metadata": {},
   "outputs": [
    {
     "data": {
      "text/plain": [
       "TrainState(step=ShapeDtypeStruct(shape=(), dtype=int32), apply_fn=<bound method Module.apply of SimpleNN(\n",
       "    # attributes\n",
       "    hidden_dim = 8\n",
       "    output_dim = 1\n",
       ")>, params={'Dense_0': {'kernel': Partitioned(value=ShapeDtypeStruct(shape=(32, 8), dtype=float32), names=('data', 'model'), mesh=None)}, 'Dense_1': {'bias': ShapeDtypeStruct(shape=(1,), dtype=float32), 'kernel': ShapeDtypeStruct(shape=(8, 1), dtype=float32)}}, tx=GradientTransformationExtraArgs(init=<function chain.<locals>.init_fn at 0x7f5e0c4291b0>, update=<function chain.<locals>.update_fn at 0x7f5e0c4292d0>), opt_state=(ScaleByAdamState(count=ShapeDtypeStruct(shape=(), dtype=int32), mu={'Dense_0': {'kernel': Partitioned(value=ShapeDtypeStruct(shape=(32, 8), dtype=float32), names=('data', 'model'), mesh=None)}, 'Dense_1': {'bias': ShapeDtypeStruct(shape=(1,), dtype=float32), 'kernel': ShapeDtypeStruct(shape=(8, 1), dtype=float32)}}, nu={'Dense_0': {'kernel': Partitioned(value=ShapeDtypeStruct(shape=(32, 8), dtype=float32), names=('data', 'model'), mesh=None)}, 'Dense_1': {'bias': ShapeDtypeStruct(shape=(1,), dtype=float32), 'kernel': ShapeDtypeStruct(shape=(8, 1), dtype=float32)}}), EmptyState()))"
      ]
     },
     "execution_count": 135,
     "metadata": {},
     "output_type": "execute_result"
    }
   ],
   "source": [
    "abstract_variables"
   ]
  },
  {
   "cell_type": "code",
   "execution_count": 168,
   "metadata": {},
   "outputs": [],
   "source": [
    "state_sharding = nn.get_sharding(abstract_variables, mesh)"
   ]
  },
  {
   "cell_type": "code",
   "execution_count": 138,
   "metadata": {},
   "outputs": [
    {
     "data": {
      "text/plain": [
       "TrainState(step=NamedSharding(mesh=Mesh('data': 1, 'model': 4), spec=PartitionSpec()), apply_fn=<bound method Module.apply of SimpleNN(\n",
       "    # attributes\n",
       "    hidden_dim = 8\n",
       "    output_dim = 1\n",
       ")>, params={'Dense_0': {'kernel': NamedSharding(mesh=Mesh('data': 1, 'model': 4), spec=PartitionSpec('data', 'model'))}, 'Dense_1': {'bias': NamedSharding(mesh=Mesh('data': 1, 'model': 4), spec=PartitionSpec()), 'kernel': NamedSharding(mesh=Mesh('data': 1, 'model': 4), spec=PartitionSpec())}}, tx=GradientTransformationExtraArgs(init=<function chain.<locals>.init_fn at 0x7f5e0c4291b0>, update=<function chain.<locals>.update_fn at 0x7f5e0c4292d0>), opt_state=(ScaleByAdamState(count=NamedSharding(mesh=Mesh('data': 1, 'model': 4), spec=PartitionSpec()), mu={'Dense_0': {'kernel': NamedSharding(mesh=Mesh('data': 1, 'model': 4), spec=PartitionSpec('data', 'model'))}, 'Dense_1': {'bias': NamedSharding(mesh=Mesh('data': 1, 'model': 4), spec=PartitionSpec()), 'kernel': NamedSharding(mesh=Mesh('data': 1, 'model': 4), spec=PartitionSpec())}}, nu={'Dense_0': {'kernel': NamedSharding(mesh=Mesh('data': 1, 'model': 4), spec=PartitionSpec('data', 'model'))}, 'Dense_1': {'bias': NamedSharding(mesh=Mesh('data': 1, 'model': 4), spec=PartitionSpec()), 'kernel': NamedSharding(mesh=Mesh('data': 1, 'model': 4), spec=PartitionSpec())}}), EmptyState()))"
      ]
     },
     "execution_count": 138,
     "metadata": {},
     "output_type": "execute_result"
    }
   ],
   "source": [
    "state_sharding"
   ]
  },
  {
   "cell_type": "code",
   "execution_count": 169,
   "metadata": {},
   "outputs": [],
   "source": [
    "jit_init_fn = jax.jit(init_fn, \n",
    "                          static_argnums=(2, 3),\n",
    "                          in_shardings=(mesh_sharding(pspec=()), x_sharding),  # PRNG key and x\n",
    "                          out_shardings=state_sharding)"
   ]
  },
  {
   "cell_type": "code",
   "execution_count": 170,
   "metadata": {},
   "outputs": [],
   "source": [
    "initialized_state = jit_init_fn(jax.random.PRNGKey(99), sample_batch, model, optimizer)"
   ]
  },
  {
   "cell_type": "code",
   "execution_count": 171,
   "metadata": {},
   "outputs": [
    {
     "data": {
      "text/plain": [
       "Array([[-0.14665894],\n",
       "       [-0.22765416],\n",
       "       [-0.41170552],\n",
       "       [-0.47610608],\n",
       "       [ 0.09983327],\n",
       "       [-0.55441546],\n",
       "       [-0.32387885],\n",
       "       [ 0.44042173]], dtype=float32)"
      ]
     },
     "execution_count": 171,
     "metadata": {},
     "output_type": "execute_result"
    }
   ],
   "source": [
    "initialized_state.params['Dense_1']['kernel']"
   ]
  },
  {
   "cell_type": "code",
   "execution_count": 181,
   "metadata": {},
   "outputs": [
    {
     "name": "stdout",
     "output_type": "stream",
     "text": [
      "Name: Dense_0/kernel\n"
     ]
    },
    {
     "data": {
      "text/html": [
       "<pre style=\"white-space:pre;overflow-x:auto;line-height:normal;font-family:Menlo,'DejaVu Sans Mono',consolas,'Courier New',monospace\">┌───────┬───────┬───────┬───────┐\n",
       "│       │       │       │       │\n",
       "│       │       │       │       │\n",
       "│       │       │       │       │\n",
       "│       │       │       │       │\n",
       "│ TPU <span style=\"color: #008080; text-decoration-color: #008080; font-weight: bold\">0</span> │ TPU <span style=\"color: #008080; text-decoration-color: #008080; font-weight: bold\">2</span> │ TPU <span style=\"color: #008080; text-decoration-color: #008080; font-weight: bold\">1</span> │ TPU <span style=\"color: #008080; text-decoration-color: #008080; font-weight: bold\">3</span> │\n",
       "│       │       │       │       │\n",
       "│       │       │       │       │\n",
       "│       │       │       │       │\n",
       "│       │       │       │       │\n",
       "└───────┴───────┴───────┴───────┘\n",
       "</pre>\n"
      ],
      "text/plain": [
       "┌───────┬───────┬───────┬───────┐\n",
       "│       │       │       │       │\n",
       "│       │       │       │       │\n",
       "│       │       │       │       │\n",
       "│       │       │       │       │\n",
       "│ TPU \u001b[1;36m0\u001b[0m │ TPU \u001b[1;36m2\u001b[0m │ TPU \u001b[1;36m1\u001b[0m │ TPU \u001b[1;36m3\u001b[0m │\n",
       "│       │       │       │       │\n",
       "│       │       │       │       │\n",
       "│       │       │       │       │\n",
       "│       │       │       │       │\n",
       "└───────┴───────┴───────┴───────┘\n"
      ]
     },
     "metadata": {},
     "output_type": "display_data"
    },
    {
     "name": "stdout",
     "output_type": "stream",
     "text": [
      "None\n",
      "----------------------------------------\n",
      "Name: Dense_1/kernel\n"
     ]
    },
    {
     "data": {
      "text/html": [
       "<pre style=\"white-space:pre;overflow-x:auto;line-height:normal;font-family:Menlo,'DejaVu Sans Mono',consolas,'Courier New',monospace\">┌───────────┐\n",
       "│           │\n",
       "│           │\n",
       "│           │\n",
       "│           │\n",
       "│TPU <span style=\"color: #008080; text-decoration-color: #008080; font-weight: bold\">0</span>,<span style=\"color: #008080; text-decoration-color: #008080; font-weight: bold\">1</span>,<span style=\"color: #008080; text-decoration-color: #008080; font-weight: bold\">2</span>,<span style=\"color: #008080; text-decoration-color: #008080; font-weight: bold\">3</span>│\n",
       "│           │\n",
       "│           │\n",
       "│           │\n",
       "│           │\n",
       "└───────────┘\n",
       "</pre>\n"
      ],
      "text/plain": [
       "┌───────────┐\n",
       "│           │\n",
       "│           │\n",
       "│           │\n",
       "│           │\n",
       "│TPU \u001b[1;36m0\u001b[0m,\u001b[1;36m1\u001b[0m,\u001b[1;36m2\u001b[0m,\u001b[1;36m3\u001b[0m│\n",
       "│           │\n",
       "│           │\n",
       "│           │\n",
       "│           │\n",
       "└───────────┘\n"
      ]
     },
     "metadata": {},
     "output_type": "display_data"
    },
    {
     "name": "stdout",
     "output_type": "stream",
     "text": [
      "None\n",
      "----------------------------------------\n"
     ]
    }
   ],
   "source": [
    "print_params(initialized_state.params)"
   ]
  },
  {
   "cell_type": "code",
   "execution_count": 182,
   "metadata": {},
   "outputs": [],
   "source": [
    "def forward_pass(params, state, batch):\n",
    "  input_images, labels = batch\n",
    "    \n",
    "  # call forward pass function.\n",
    "  logits = state.apply_fn({\"params\": params}, input_images)\n",
    "\n",
    "  # compute loss\n",
    "  loss = optax.squared_error(logits, labels)\n",
    "  loss = loss.mean()\n",
    "  return loss, logits"
   ]
  },
  {
   "cell_type": "code",
   "execution_count": 183,
   "metadata": {},
   "outputs": [],
   "source": [
    "def backward_pass(state, batch):\n",
    "  # create a function to compute gradients wrt to loss\n",
    "  # returned by our `forward_pass` function.\n",
    "  grad_fn = jax.value_and_grad(forward_pass, argnums=(0), has_aux=True)\n",
    "\n",
    "  # compute gradients.\n",
    "  (loss, _), grads = grad_fn(state.params, state, batch)\n",
    "\n",
    "  # apply gradients.\n",
    "  state = state.apply_gradients(grads=grads)\n",
    "\n",
    "  return state"
   ]
  },
  {
   "cell_type": "code",
   "execution_count": 207,
   "metadata": {},
   "outputs": [],
   "source": [
    "@functools.partial(jax.jit, in_shardings=(state_sharding, x_sharding, None),\n",
    "                   out_shardings=state_sharding)\n",
    "def train_step(state, inputs, targets):\n",
    "  return backward_pass(state, (inputs, targets))"
   ]
  },
  {
   "cell_type": "code",
   "execution_count": 208,
   "metadata": {},
   "outputs": [],
   "source": [
    "batch = (jnp.ones(shape=(1, input_dim)), jnp.zeros(shape=(1, output_dim)))"
   ]
  },
  {
   "cell_type": "code",
   "execution_count": 209,
   "metadata": {},
   "outputs": [],
   "source": [
    "batch0 = jax.device_put(batch[0], x_sharding)"
   ]
  },
  {
   "cell_type": "code",
   "execution_count": 210,
   "metadata": {},
   "outputs": [],
   "source": [
    "batch1 = jax.device_put(batch[1], mesh_sharding(PartitionSpec('data', None)))"
   ]
  },
  {
   "cell_type": "code",
   "execution_count": 211,
   "metadata": {},
   "outputs": [],
   "source": [
    "with mesh:\n",
    "    new_state = train_step(initialized_state, batch0, batch1)"
   ]
  },
  {
   "cell_type": "code",
   "execution_count": 212,
   "metadata": {},
   "outputs": [
    {
     "data": {
      "text/plain": [
       "TrainState(step=Array(1, dtype=int32, weak_type=True), apply_fn=<bound method Module.apply of SimpleNN(\n",
       "    # attributes\n",
       "    hidden_dim = 8\n",
       "    output_dim = 1\n",
       ")>, params={'Dense_0': {'kernel': Partitioned(value=Array([[ 0.29087412, -0.05503109, -0.20790817, -0.29750723,  0.07447191,\n",
       "         0.0784103 ,  0.01066407,  0.49764064],\n",
       "       [ 0.3668062 , -0.34450766,  0.1546367 ,  0.32535422,  0.12399623,\n",
       "        -0.29323256,  0.0124924 ,  0.04483453],\n",
       "       [ 0.03978511,  0.13564567, -0.21708795, -0.20757158, -0.11483077,\n",
       "         0.06651969,  0.30071765,  0.21988122],\n",
       "       [-0.14387387,  0.13240269, -0.21598163,  0.18907267,  0.15003328,\n",
       "         0.383029  ,  0.27404705,  0.34015822],\n",
       "       [-0.14029394, -0.42128232, -0.0436018 ,  0.3238122 , -0.07844601,\n",
       "        -0.01554115,  0.06825367, -0.01932324],\n",
       "       [-0.23955524, -0.01933642,  0.0330421 , -0.0531561 ,  0.1021446 ,\n",
       "         0.14570239, -0.33155596,  0.1250879 ],\n",
       "       [ 0.02744705, -0.21270357,  0.10063621, -0.37119505,  0.10107272,\n",
       "         0.12843272, -0.00196982,  0.20570394],\n",
       "       [ 0.16296269,  0.00788696, -0.09104495, -0.07346075,  0.2871761 ,\n",
       "         0.15964736, -0.00952634, -0.0154478 ],\n",
       "       [ 0.2739508 ,  0.19443105,  0.00205124,  0.01194397, -0.17157395,\n",
       "         0.222806  , -0.01689622,  0.01235458],\n",
       "       [ 0.12845945, -0.31314543, -0.13750003,  0.42534965, -0.05389231,\n",
       "        -0.11938798,  0.1842729 ,  0.2512531 ],\n",
       "       [ 0.10009859, -0.12437249, -0.07522871,  0.16442451,  0.12061938,\n",
       "         0.06323166, -0.00201992,  0.2770702 ],\n",
       "       [-0.43912423,  0.41835326,  0.06318637, -0.35637447,  0.04127204,\n",
       "        -0.36466777,  0.17777334, -0.04821995],\n",
       "       [-0.08387877, -0.11837611, -0.10380331, -0.19823126, -0.06541596,\n",
       "         0.37111443,  0.13995978,  0.11815429],\n",
       "       [ 0.27462468,  0.2851971 , -0.36457142, -0.00515785, -0.02091838,\n",
       "         0.22222848, -0.02043531,  0.14784531],\n",
       "       [ 0.09261431, -0.21363725,  0.24058041, -0.15798685, -0.10246202,\n",
       "         0.07206718,  0.14244324,  0.02349006],\n",
       "       [-0.29940218,  0.07020763, -0.12028702,  0.03438151, -0.36889735,\n",
       "         0.13416596, -0.0054514 ,  0.35267642],\n",
       "       [ 0.3289473 ,  0.02488919,  0.18427838, -0.00567017,  0.08833113,\n",
       "        -0.22969824,  0.09208508, -0.01428962],\n",
       "       [-0.01372692, -0.17917718,  0.17257117, -0.11437753,  0.4991162 ,\n",
       "        -0.1967487 ,  0.02352561, -0.12727918],\n",
       "       [ 0.06066498, -0.08148078, -0.06428847,  0.45844334, -0.10593563,\n",
       "         0.06513767,  0.09559976, -0.03615152],\n",
       "       [-0.3178013 , -0.12693909,  0.04585905,  0.07008588,  0.24379049,\n",
       "         0.00338114, -0.25111663, -0.11890506],\n",
       "       [-0.11637583, -0.10576275,  0.09738146, -0.12254769, -0.03900563,\n",
       "         0.0874134 , -0.04332288,  0.26496503],\n",
       "       [ 0.24503574, -0.28694615, -0.23867567, -0.46647716,  0.16771248,\n",
       "        -0.00398282,  0.08421402,  0.18083267],\n",
       "       [-0.13683103,  0.07377894, -0.06446165,  0.20921326,  0.12011824,\n",
       "        -0.10701025, -0.11378057, -0.30178994],\n",
       "       [-0.26623183,  0.10112035,  0.06864945, -0.36668837,  0.41025427,\n",
       "         0.22728826,  0.06871925,  0.24565658],\n",
       "       [-0.15991984,  0.13034828, -0.34890926,  0.00742253, -0.09919686,\n",
       "        -0.395795  ,  0.45046002,  0.0979897 ],\n",
       "       [-0.35052735,  0.0729351 , -0.01772916,  0.43550587, -0.16316144,\n",
       "         0.47707775,  0.09005121,  0.08608019],\n",
       "       [ 0.22307132,  0.13245434,  0.15719616,  0.13758469,  0.14680241,\n",
       "         0.09792064, -0.05644584, -0.26034856],\n",
       "       [-0.16445   ,  0.19975331, -0.3782486 , -0.04989737,  0.31625018,\n",
       "         0.14119981,  0.12703593,  0.1620217 ],\n",
       "       [-0.2726674 ,  0.28295177,  0.0073436 , -0.15708968,  0.18106106,\n",
       "        -0.18632808, -0.39241806, -0.25487754],\n",
       "       [ 0.28089947, -0.08327043, -0.20331575,  0.24599761,  0.25059855,\n",
       "        -0.03552495, -0.1083608 , -0.11323848],\n",
       "       [-0.23346247, -0.22859487,  0.31903318, -0.02107643, -0.0800717 ,\n",
       "         0.00850961,  0.1685506 , -0.26422504],\n",
       "       [-0.08498949,  0.05539811, -0.0528327 ,  0.00337657, -0.2194907 ,\n",
       "        -0.11247257, -0.09725054, -0.2592966 ]], dtype=float32), names=('data', 'model'), mesh=None)}, 'Dense_1': {'kernel': Array([[-0.14665894],\n",
       "       [-0.22765416],\n",
       "       [-0.41170552],\n",
       "       [-0.4751061 ],\n",
       "       [ 0.10083327],\n",
       "       [-0.5534155 ],\n",
       "       [-0.32287887],\n",
       "       [ 0.44142172]], dtype=float32)}}, tx=GradientTransformationExtraArgs(init=<function chain.<locals>.init_fn at 0x7f5edc179360>, update=<function chain.<locals>.update_fn at 0x7f5edc17be20>), opt_state=(ScaleByAdamState(count=Array(1, dtype=int32), mu={'Dense_0': {'kernel': Partitioned(value=Array([[ 0.        ,  0.        ,  0.        ,  0.00417429, -0.00087529,\n",
       "         0.00486087,  0.00283963, -0.00386142],\n",
       "       [ 0.        ,  0.        ,  0.        ,  0.00417429, -0.00087529,\n",
       "         0.00486087,  0.00283963, -0.00386142],\n",
       "       [ 0.        ,  0.        ,  0.        ,  0.00417429, -0.00087529,\n",
       "         0.00486087,  0.00283963, -0.00386142],\n",
       "       [ 0.        ,  0.        ,  0.        ,  0.00417429, -0.00087529,\n",
       "         0.00486087,  0.00283963, -0.00386142],\n",
       "       [ 0.        ,  0.        ,  0.        ,  0.00417429, -0.00087529,\n",
       "         0.00486087,  0.00283963, -0.00386142],\n",
       "       [ 0.        ,  0.        ,  0.        ,  0.00417429, -0.00087529,\n",
       "         0.00486087,  0.00283963, -0.00386142],\n",
       "       [ 0.        ,  0.        ,  0.        ,  0.00417429, -0.00087529,\n",
       "         0.00486087,  0.00283963, -0.00386142],\n",
       "       [ 0.        ,  0.        ,  0.        ,  0.00417429, -0.00087529,\n",
       "         0.00486087,  0.00283963, -0.00386142],\n",
       "       [ 0.        ,  0.        ,  0.        ,  0.00417429, -0.00087529,\n",
       "         0.00486087,  0.00283963, -0.00386142],\n",
       "       [ 0.        ,  0.        ,  0.        ,  0.00417429, -0.00087529,\n",
       "         0.00486087,  0.00283963, -0.00386142],\n",
       "       [ 0.        ,  0.        ,  0.        ,  0.00417429, -0.00087529,\n",
       "         0.00486087,  0.00283963, -0.00386142],\n",
       "       [ 0.        ,  0.        ,  0.        ,  0.00417429, -0.00087529,\n",
       "         0.00486087,  0.00283963, -0.00386142],\n",
       "       [ 0.        ,  0.        ,  0.        ,  0.00417429, -0.00087529,\n",
       "         0.00486087,  0.00283963, -0.00386142],\n",
       "       [ 0.        ,  0.        ,  0.        ,  0.00417429, -0.00087529,\n",
       "         0.00486087,  0.00283963, -0.00386142],\n",
       "       [ 0.        ,  0.        ,  0.        ,  0.00417429, -0.00087529,\n",
       "         0.00486087,  0.00283963, -0.00386142],\n",
       "       [ 0.        ,  0.        ,  0.        ,  0.00417429, -0.00087529,\n",
       "         0.00486087,  0.00283963, -0.00386142],\n",
       "       [ 0.        ,  0.        ,  0.        ,  0.00417429, -0.00087529,\n",
       "         0.00486087,  0.00283963, -0.00386142],\n",
       "       [ 0.        ,  0.        ,  0.        ,  0.00417429, -0.00087529,\n",
       "         0.00486087,  0.00283963, -0.00386142],\n",
       "       [ 0.        ,  0.        ,  0.        ,  0.00417429, -0.00087529,\n",
       "         0.00486087,  0.00283963, -0.00386142],\n",
       "       [ 0.        ,  0.        ,  0.        ,  0.00417429, -0.00087529,\n",
       "         0.00486087,  0.00283963, -0.00386142],\n",
       "       [ 0.        ,  0.        ,  0.        ,  0.00417429, -0.00087529,\n",
       "         0.00486087,  0.00283963, -0.00386142],\n",
       "       [ 0.        ,  0.        ,  0.        ,  0.00417429, -0.00087529,\n",
       "         0.00486087,  0.00283963, -0.00386142],\n",
       "       [ 0.        ,  0.        ,  0.        ,  0.00417429, -0.00087529,\n",
       "         0.00486087,  0.00283963, -0.00386142],\n",
       "       [ 0.        ,  0.        ,  0.        ,  0.00417429, -0.00087529,\n",
       "         0.00486087,  0.00283963, -0.00386142],\n",
       "       [ 0.        ,  0.        ,  0.        ,  0.00417429, -0.00087529,\n",
       "         0.00486087,  0.00283963, -0.00386142],\n",
       "       [ 0.        ,  0.        ,  0.        ,  0.00417429, -0.00087529,\n",
       "         0.00486087,  0.00283963, -0.00386142],\n",
       "       [ 0.        ,  0.        ,  0.        ,  0.00417429, -0.00087529,\n",
       "         0.00486087,  0.00283963, -0.00386142],\n",
       "       [ 0.        ,  0.        ,  0.        ,  0.00417429, -0.00087529,\n",
       "         0.00486087,  0.00283963, -0.00386142],\n",
       "       [ 0.        ,  0.        ,  0.        ,  0.00417429, -0.00087529,\n",
       "         0.00486087,  0.00283963, -0.00386142],\n",
       "       [ 0.        ,  0.        ,  0.        ,  0.00417429, -0.00087529,\n",
       "         0.00486087,  0.00283963, -0.00386142],\n",
       "       [ 0.        ,  0.        ,  0.        ,  0.00417429, -0.00087529,\n",
       "         0.00486087,  0.00283963, -0.00386142],\n",
       "       [ 0.        ,  0.        ,  0.        ,  0.00417429, -0.00087529,\n",
       "         0.00486087,  0.00283963, -0.00386142]], dtype=float32), names=('data', 'model'), mesh=None)}, 'Dense_1': {'kernel': Array([[ 0.        ],\n",
       "       [ 0.        ],\n",
       "       [ 0.        ],\n",
       "       [-0.00043402],\n",
       "       [-0.01498835],\n",
       "       [-0.0098801 ],\n",
       "       [-0.00957694],\n",
       "       [-0.01567907]], dtype=float32)}}, nu={'Dense_0': {'kernel': Partitioned(value=Array([[0.0000000e+00, 0.0000000e+00, 0.0000000e+00, 1.7424687e-06,\n",
       "        7.6613993e-08, 2.3628068e-06, 8.0634840e-07, 1.4910596e-06],\n",
       "       [0.0000000e+00, 0.0000000e+00, 0.0000000e+00, 1.7424687e-06,\n",
       "        7.6613993e-08, 2.3628068e-06, 8.0634840e-07, 1.4910596e-06],\n",
       "       [0.0000000e+00, 0.0000000e+00, 0.0000000e+00, 1.7424687e-06,\n",
       "        7.6613993e-08, 2.3628068e-06, 8.0634840e-07, 1.4910596e-06],\n",
       "       [0.0000000e+00, 0.0000000e+00, 0.0000000e+00, 1.7424687e-06,\n",
       "        7.6613993e-08, 2.3628068e-06, 8.0634840e-07, 1.4910596e-06],\n",
       "       [0.0000000e+00, 0.0000000e+00, 0.0000000e+00, 1.7424687e-06,\n",
       "        7.6613993e-08, 2.3628068e-06, 8.0634840e-07, 1.4910596e-06],\n",
       "       [0.0000000e+00, 0.0000000e+00, 0.0000000e+00, 1.7424687e-06,\n",
       "        7.6613993e-08, 2.3628068e-06, 8.0634840e-07, 1.4910596e-06],\n",
       "       [0.0000000e+00, 0.0000000e+00, 0.0000000e+00, 1.7424687e-06,\n",
       "        7.6613993e-08, 2.3628068e-06, 8.0634840e-07, 1.4910596e-06],\n",
       "       [0.0000000e+00, 0.0000000e+00, 0.0000000e+00, 1.7424687e-06,\n",
       "        7.6613993e-08, 2.3628068e-06, 8.0634840e-07, 1.4910596e-06],\n",
       "       [0.0000000e+00, 0.0000000e+00, 0.0000000e+00, 1.7424687e-06,\n",
       "        7.6613993e-08, 2.3628068e-06, 8.0634840e-07, 1.4910596e-06],\n",
       "       [0.0000000e+00, 0.0000000e+00, 0.0000000e+00, 1.7424687e-06,\n",
       "        7.6613993e-08, 2.3628068e-06, 8.0634840e-07, 1.4910596e-06],\n",
       "       [0.0000000e+00, 0.0000000e+00, 0.0000000e+00, 1.7424687e-06,\n",
       "        7.6613993e-08, 2.3628068e-06, 8.0634840e-07, 1.4910596e-06],\n",
       "       [0.0000000e+00, 0.0000000e+00, 0.0000000e+00, 1.7424687e-06,\n",
       "        7.6613993e-08, 2.3628068e-06, 8.0634840e-07, 1.4910596e-06],\n",
       "       [0.0000000e+00, 0.0000000e+00, 0.0000000e+00, 1.7424687e-06,\n",
       "        7.6613993e-08, 2.3628068e-06, 8.0634840e-07, 1.4910596e-06],\n",
       "       [0.0000000e+00, 0.0000000e+00, 0.0000000e+00, 1.7424687e-06,\n",
       "        7.6613993e-08, 2.3628068e-06, 8.0634840e-07, 1.4910596e-06],\n",
       "       [0.0000000e+00, 0.0000000e+00, 0.0000000e+00, 1.7424687e-06,\n",
       "        7.6613993e-08, 2.3628068e-06, 8.0634840e-07, 1.4910596e-06],\n",
       "       [0.0000000e+00, 0.0000000e+00, 0.0000000e+00, 1.7424687e-06,\n",
       "        7.6613993e-08, 2.3628068e-06, 8.0634840e-07, 1.4910596e-06],\n",
       "       [0.0000000e+00, 0.0000000e+00, 0.0000000e+00, 1.7424687e-06,\n",
       "        7.6613993e-08, 2.3628068e-06, 8.0634840e-07, 1.4910596e-06],\n",
       "       [0.0000000e+00, 0.0000000e+00, 0.0000000e+00, 1.7424687e-06,\n",
       "        7.6613993e-08, 2.3628068e-06, 8.0634840e-07, 1.4910596e-06],\n",
       "       [0.0000000e+00, 0.0000000e+00, 0.0000000e+00, 1.7424687e-06,\n",
       "        7.6613993e-08, 2.3628068e-06, 8.0634840e-07, 1.4910596e-06],\n",
       "       [0.0000000e+00, 0.0000000e+00, 0.0000000e+00, 1.7424687e-06,\n",
       "        7.6613993e-08, 2.3628068e-06, 8.0634840e-07, 1.4910596e-06],\n",
       "       [0.0000000e+00, 0.0000000e+00, 0.0000000e+00, 1.7424687e-06,\n",
       "        7.6613993e-08, 2.3628068e-06, 8.0634840e-07, 1.4910596e-06],\n",
       "       [0.0000000e+00, 0.0000000e+00, 0.0000000e+00, 1.7424687e-06,\n",
       "        7.6613993e-08, 2.3628068e-06, 8.0634840e-07, 1.4910596e-06],\n",
       "       [0.0000000e+00, 0.0000000e+00, 0.0000000e+00, 1.7424687e-06,\n",
       "        7.6613993e-08, 2.3628068e-06, 8.0634840e-07, 1.4910596e-06],\n",
       "       [0.0000000e+00, 0.0000000e+00, 0.0000000e+00, 1.7424687e-06,\n",
       "        7.6613993e-08, 2.3628068e-06, 8.0634840e-07, 1.4910596e-06],\n",
       "       [0.0000000e+00, 0.0000000e+00, 0.0000000e+00, 1.7424687e-06,\n",
       "        7.6613993e-08, 2.3628068e-06, 8.0634840e-07, 1.4910596e-06],\n",
       "       [0.0000000e+00, 0.0000000e+00, 0.0000000e+00, 1.7424687e-06,\n",
       "        7.6613993e-08, 2.3628068e-06, 8.0634840e-07, 1.4910596e-06],\n",
       "       [0.0000000e+00, 0.0000000e+00, 0.0000000e+00, 1.7424687e-06,\n",
       "        7.6613993e-08, 2.3628068e-06, 8.0634840e-07, 1.4910596e-06],\n",
       "       [0.0000000e+00, 0.0000000e+00, 0.0000000e+00, 1.7424687e-06,\n",
       "        7.6613993e-08, 2.3628068e-06, 8.0634840e-07, 1.4910596e-06],\n",
       "       [0.0000000e+00, 0.0000000e+00, 0.0000000e+00, 1.7424687e-06,\n",
       "        7.6613993e-08, 2.3628068e-06, 8.0634840e-07, 1.4910596e-06],\n",
       "       [0.0000000e+00, 0.0000000e+00, 0.0000000e+00, 1.7424687e-06,\n",
       "        7.6613993e-08, 2.3628068e-06, 8.0634840e-07, 1.4910596e-06],\n",
       "       [0.0000000e+00, 0.0000000e+00, 0.0000000e+00, 1.7424687e-06,\n",
       "        7.6613993e-08, 2.3628068e-06, 8.0634840e-07, 1.4910596e-06],\n",
       "       [0.0000000e+00, 0.0000000e+00, 0.0000000e+00, 1.7424687e-06,\n",
       "        7.6613993e-08, 2.3628068e-06, 8.0634840e-07, 1.4910596e-06]],      dtype=float32), names=('data', 'model'), mesh=None)}, 'Dense_1': {'kernel': Array([[0.0000000e+00],\n",
       "       [0.0000000e+00],\n",
       "       [0.0000000e+00],\n",
       "       [1.8837088e-08],\n",
       "       [2.2465050e-05],\n",
       "       [9.7616430e-06],\n",
       "       [9.1717720e-06],\n",
       "       [2.4583311e-05]], dtype=float32)}}), EmptyState()))"
      ]
     },
     "execution_count": 212,
     "metadata": {},
     "output_type": "execute_result"
    }
   ],
   "source": [
    "new_state"
   ]
  },
  {
   "cell_type": "code",
   "execution_count": null,
   "metadata": {},
   "outputs": [],
   "source": []
  },
  {
   "cell_type": "code",
   "execution_count": null,
   "metadata": {},
   "outputs": [],
   "source": []
  },
  {
   "cell_type": "code",
   "execution_count": null,
   "metadata": {},
   "outputs": [],
   "source": []
  },
  {
   "cell_type": "code",
   "execution_count": null,
   "metadata": {},
   "outputs": [],
   "source": []
  },
  {
   "cell_type": "code",
   "execution_count": null,
   "metadata": {},
   "outputs": [],
   "source": []
  },
  {
   "cell_type": "code",
   "execution_count": null,
   "metadata": {},
   "outputs": [],
   "source": []
  },
  {
   "cell_type": "code",
   "execution_count": null,
   "metadata": {},
   "outputs": [],
   "source": []
  },
  {
   "cell_type": "code",
   "execution_count": null,
   "metadata": {},
   "outputs": [],
   "source": []
  },
  {
   "cell_type": "code",
   "execution_count": null,
   "metadata": {},
   "outputs": [],
   "source": []
  },
  {
   "cell_type": "code",
   "execution_count": null,
   "metadata": {},
   "outputs": [],
   "source": []
  },
  {
   "cell_type": "code",
   "execution_count": null,
   "metadata": {},
   "outputs": [],
   "source": []
  },
  {
   "cell_type": "code",
   "execution_count": null,
   "metadata": {},
   "outputs": [],
   "source": []
  },
  {
   "cell_type": "code",
   "execution_count": null,
   "metadata": {},
   "outputs": [],
   "source": []
  },
  {
   "cell_type": "code",
   "execution_count": null,
   "metadata": {},
   "outputs": [],
   "source": []
  },
  {
   "cell_type": "code",
   "execution_count": null,
   "metadata": {},
   "outputs": [],
   "source": []
  },
  {
   "cell_type": "code",
   "execution_count": null,
   "metadata": {},
   "outputs": [],
   "source": []
  }
 ],
 "metadata": {
  "accelerator": "GPU",
  "colab": {
   "private_outputs": true
  },
  "kernelspec": {
   "display_name": "Python 3 (ipykernel)",
   "language": "python",
   "name": "python3"
  },
  "language_info": {
   "codemirror_mode": {
    "name": "ipython",
    "version": 3
   },
   "file_extension": ".py",
   "mimetype": "text/x-python",
   "name": "python",
   "nbconvert_exporter": "python",
   "pygments_lexer": "ipython3",
   "version": "3.10.14"
  }
 },
 "nbformat": 4,
 "nbformat_minor": 4
}
